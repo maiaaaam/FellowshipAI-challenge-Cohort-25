{
 "cells": [
  {
   "cell_type": "markdown",
   "id": "289ec007",
   "metadata": {},
   "source": [
    "# LSTM model to perform sentiment analysis on a 50k movie reviews - Fellowship AI challenge"
   ]
  },
  {
   "cell_type": "markdown",
   "id": "13e9d934",
   "metadata": {},
   "source": [
    "in the following notebook, we performed sentiment analysis on 50k movie reviews, using LSTM (Long Short Term Memory) network, which is a variant of RNN-recurrent neural netwok that is capable of learning long-term dependencies. \n",
    "\n",
    "The built of the algorithm consists of an embedding layer, an LSTM layer and a dense layer. a Dropout mechanism was introduced in-between layers of LSTM to avoid overfitting."
   ]
  },
  {
   "cell_type": "markdown",
   "id": "d0afea4b",
   "metadata": {},
   "source": [
    "first let's import and read our dataset "
   ]
  },
  {
   "cell_type": "code",
   "execution_count": 127,
   "id": "87618323",
   "metadata": {},
   "outputs": [],
   "source": [
    "import pandas as pd\n",
    "df = pd.read_csv(\"/Users/oumai/Desktop/NLP/IMDB.csv\")"
   ]
  },
  {
   "cell_type": "code",
   "execution_count": 128,
   "id": "d6aa9dd1",
   "metadata": {},
   "outputs": [
    {
     "data": {
      "text/html": [
       "<div>\n",
       "<style scoped>\n",
       "    .dataframe tbody tr th:only-of-type {\n",
       "        vertical-align: middle;\n",
       "    }\n",
       "\n",
       "    .dataframe tbody tr th {\n",
       "        vertical-align: top;\n",
       "    }\n",
       "\n",
       "    .dataframe thead th {\n",
       "        text-align: right;\n",
       "    }\n",
       "</style>\n",
       "<table border=\"1\" class=\"dataframe\">\n",
       "  <thead>\n",
       "    <tr style=\"text-align: right;\">\n",
       "      <th></th>\n",
       "      <th>review</th>\n",
       "      <th>sentiment</th>\n",
       "    </tr>\n",
       "  </thead>\n",
       "  <tbody>\n",
       "    <tr>\n",
       "      <th>0</th>\n",
       "      <td>One of the other reviewers has mentioned that ...</td>\n",
       "      <td>positive</td>\n",
       "    </tr>\n",
       "    <tr>\n",
       "      <th>1</th>\n",
       "      <td>A wonderful little production. &lt;br /&gt;&lt;br /&gt;The...</td>\n",
       "      <td>positive</td>\n",
       "    </tr>\n",
       "    <tr>\n",
       "      <th>2</th>\n",
       "      <td>I thought this was a wonderful way to spend ti...</td>\n",
       "      <td>positive</td>\n",
       "    </tr>\n",
       "    <tr>\n",
       "      <th>3</th>\n",
       "      <td>Basically there's a family where a little boy ...</td>\n",
       "      <td>negative</td>\n",
       "    </tr>\n",
       "    <tr>\n",
       "      <th>4</th>\n",
       "      <td>Petter Mattei's \"Love in the Time of Money\" is...</td>\n",
       "      <td>positive</td>\n",
       "    </tr>\n",
       "    <tr>\n",
       "      <th>...</th>\n",
       "      <td>...</td>\n",
       "      <td>...</td>\n",
       "    </tr>\n",
       "    <tr>\n",
       "      <th>49995</th>\n",
       "      <td>I thought this movie did a down right good job...</td>\n",
       "      <td>positive</td>\n",
       "    </tr>\n",
       "    <tr>\n",
       "      <th>49996</th>\n",
       "      <td>Bad plot, bad dialogue, bad acting, idiotic di...</td>\n",
       "      <td>negative</td>\n",
       "    </tr>\n",
       "    <tr>\n",
       "      <th>49997</th>\n",
       "      <td>I am a Catholic taught in parochial elementary...</td>\n",
       "      <td>negative</td>\n",
       "    </tr>\n",
       "    <tr>\n",
       "      <th>49998</th>\n",
       "      <td>I'm going to have to disagree with the previou...</td>\n",
       "      <td>negative</td>\n",
       "    </tr>\n",
       "    <tr>\n",
       "      <th>49999</th>\n",
       "      <td>No one expects the Star Trek movies to be high...</td>\n",
       "      <td>negative</td>\n",
       "    </tr>\n",
       "  </tbody>\n",
       "</table>\n",
       "<p>50000 rows × 2 columns</p>\n",
       "</div>"
      ],
      "text/plain": [
       "                                                  review sentiment\n",
       "0      One of the other reviewers has mentioned that ...  positive\n",
       "1      A wonderful little production. <br /><br />The...  positive\n",
       "2      I thought this was a wonderful way to spend ti...  positive\n",
       "3      Basically there's a family where a little boy ...  negative\n",
       "4      Petter Mattei's \"Love in the Time of Money\" is...  positive\n",
       "...                                                  ...       ...\n",
       "49995  I thought this movie did a down right good job...  positive\n",
       "49996  Bad plot, bad dialogue, bad acting, idiotic di...  negative\n",
       "49997  I am a Catholic taught in parochial elementary...  negative\n",
       "49998  I'm going to have to disagree with the previou...  negative\n",
       "49999  No one expects the Star Trek movies to be high...  negative\n",
       "\n",
       "[50000 rows x 2 columns]"
      ]
     },
     "execution_count": 128,
     "metadata": {},
     "output_type": "execute_result"
    }
   ],
   "source": [
    "df"
   ]
  },
  {
   "cell_type": "markdown",
   "id": "fa15d30a",
   "metadata": {},
   "source": [
    "we will then turn the categorical data in the 'sentiment' column to numerical one, representing 0 for positive, and 1 for negative. and then we will turn the two columns into arrays."
   ]
  },
  {
   "cell_type": "code",
   "execution_count": 129,
   "id": "ac5efdee",
   "metadata": {},
   "outputs": [],
   "source": [
    "df['sentiment'] = np.where(df['sentiment'] == 'positive', 1, 0)\n",
    "\n",
    "review_data = df['review'].to_numpy()\n",
    "sentiment_label = df['sentiment'].to_numpy()"
   ]
  },
  {
   "cell_type": "code",
   "execution_count": 130,
   "id": "baf35e56",
   "metadata": {},
   "outputs": [
    {
     "data": {
      "text/plain": [
       "array([\"One of the other reviewers has mentioned that after watching just 1 Oz episode you'll be hooked. They are right, as this is exactly what happened with me.<br /><br />The first thing that struck me about Oz was its brutality and unflinching scenes of violence, which set in right from the word GO. Trust me, this is not a show for the faint hearted or timid. This show pulls no punches with regards to drugs, sex or violence. Its is hardcore, in the classic use of the word.<br /><br />It is called OZ as that is the nickname given to the Oswald Maximum Security State Penitentary. It focuses mainly on Emerald City, an experimental section of the prison where all the cells have glass fronts and face inwards, so privacy is not high on the agenda. Em City is home to many..Aryans, Muslims, gangstas, Latinos, Christians, Italians, Irish and more....so scuffles, death stares, dodgy dealings and shady agreements are never far away.<br /><br />I would say the main appeal of the show is due to the fact that it goes where other shows wouldn't dare. Forget pretty pictures painted for mainstream audiences, forget charm, forget romance...OZ doesn't mess around. The first episode I ever saw struck me as so nasty it was surreal, I couldn't say I was ready for it, but as I watched more, I developed a taste for Oz, and got accustomed to the high levels of graphic violence. Not just violence, but injustice (crooked guards who'll be sold out for a nickel, inmates who'll kill on order and get away with it, well mannered, middle class inmates being turned into prison bitches due to their lack of street skills or prison experience) Watching Oz, you may become comfortable with what is uncomfortable viewing....thats if you can get in touch with your darker side.\",\n",
       "       'A wonderful little production. <br /><br />The filming technique is very unassuming- very old-time-BBC fashion and gives a comforting, and sometimes discomforting, sense of realism to the entire piece. <br /><br />The actors are extremely well chosen- Michael Sheen not only \"has got all the polari\" but he has all the voices down pat too! You can truly see the seamless editing guided by the references to Williams\\' diary entries, not only is it well worth the watching but it is a terrificly written and performed piece. A masterful production about one of the great master\\'s of comedy and his life. <br /><br />The realism really comes home with the little things: the fantasy of the guard which, rather than use the traditional \\'dream\\' techniques remains solid then disappears. It plays on our knowledge and our senses, particularly with the scenes concerning Orton and Halliwell and the sets (particularly of their flat with Halliwell\\'s murals decorating every surface) are terribly well done.',\n",
       "       'I thought this was a wonderful way to spend time on a too hot summer weekend, sitting in the air conditioned theater and watching a light-hearted comedy. The plot is simplistic, but the dialogue is witty and the characters are likable (even the well bread suspected serial killer). While some may be disappointed when they realize this is not Match Point 2: Risk Addiction, I thought it was proof that Woody Allen is still fully in control of the style many of us have grown to love.<br /><br />This was the most I\\'d laughed at one of Woody\\'s comedies in years (dare I say a decade?). While I\\'ve never been impressed with Scarlet Johanson, in this she managed to tone down her \"sexy\" image and jumped right into a average, but spirited young woman.<br /><br />This may not be the crown jewel of his career, but it was wittier than \"Devil Wears Prada\" and more interesting than \"Superman\" a great comedy to go see with friends.',\n",
       "       ...,\n",
       "       'I am a Catholic taught in parochial elementary schools by nuns, taught by Jesuit priests in high school & college. I am still a practicing Catholic but would not be considered a \"good Catholic\" in the church\\'s eyes because I don\\'t believe certain things or act certain ways just because the church tells me to.<br /><br />So back to the movie...its bad because two people are killed by this nun who is supposed to be a satire as the embodiment of a female religious figurehead. There is no comedy in that and the satire is not done well by the over acting of Diane Keaton. I never saw the play but if it was very different from this movies then it may be good.<br /><br />At first I thought the gun might be a fake and the first shooting all a plan by the female lead of the four former students as an attempt to demonstrate Sister Mary\\'s emotional and intellectual bigotry of faith. But it turns out the bullets were real and the story has tragedy...the tragedy of loss of life (besides the two former students...the lives of the aborted babies, the life of the student\\'s mom), the tragedy of dogmatic authority over love of people, the tragedy of organized religion replacing true faith in God. This is what is wrong with today\\'s Islam, and yesterday\\'s Judaism and Christianity.',\n",
       "       'I\\'m going to have to disagree with the previous comment and side with Maltin on this one. This is a second rate, excessively vicious Western that creaks and groans trying to put across its central theme of the Wild West being tamed and kicked aside by the steady march of time. It would like to be in the tradition of \"Butch Cassidy and the Sundance Kid\", but lacks that film\\'s poignancy and charm. Andrew McLaglen\\'s direction is limp, and the final 30 minutes or so are a real botch, with some incomprehensible strategy on the part of heroes Charlton Heston and Chris Mitchum. (Someone give me a holler if you can explain to me why they set that hillside on fire.) There was something callous about the whole treatment of the rape scene, and the woman\\'s reaction afterwards certainly did not ring true. Coburn is plenty nasty as the half breed escaped convict out for revenge, but all of his fellow escapees are underdeveloped (they\\'re like bowling pins to be knocked down one by one as the story lurches forward). Michael Parks gives one of his typically shifty, lethargic, mumbling performances, but in this case it was appropriate as his modern style sheriff symbolizes the complacency that technological progress can bring about.',\n",
       "       \"No one expects the Star Trek movies to be high art, but the fans do expect a movie that is as good as some of the best episodes. Unfortunately, this movie had a muddled, implausible plot that just left me cringing - this is by far the worst of the nine (so far) movies. Even the chance to watch the well known characters interact in another movie can't save this movie - including the goofy scenes with Kirk, Spock and McCoy at Yosemite.<br /><br />I would say this movie is not worth a rental, and hardly worth watching, however for the True Fan who needs to see all the movies, renting this movie is about the only way you'll see it - even the cable channels avoid this movie.\"],\n",
       "      dtype=object)"
      ]
     },
     "execution_count": 130,
     "metadata": {},
     "output_type": "execute_result"
    }
   ],
   "source": [
    "review_data"
   ]
  },
  {
   "cell_type": "markdown",
   "id": "0017017e",
   "metadata": {},
   "source": [
    "now, we will break down the long sentences into tokens using Keras Tokenizer. the \"num_word=10000\" tells the program to show the most used 10000 words in the array. the \"fit_on_texts\" command creates a connection between words and their assigned numbers."
   ]
  },
  {
   "cell_type": "code",
   "execution_count": 131,
   "id": "862dddca",
   "metadata": {},
   "outputs": [],
   "source": [
    "from tensorflow.keras.preprocessing.text import Tokenizer\n",
    "\n",
    "tokenizer = Tokenizer(num_words=10000)\n",
    "\n",
    "tokenizer.fit_on_texts(review_data)"
   ]
  },
  {
   "cell_type": "markdown",
   "id": "3a034a83",
   "metadata": {},
   "source": [
    "now we will replace the words with their assigned numbers"
   ]
  },
  {
   "cell_type": "code",
   "execution_count": 132,
   "id": "75b95c93",
   "metadata": {},
   "outputs": [],
   "source": [
    "numbered_words = tokenizer.texts_to_sequences(review_data)"
   ]
  },
  {
   "cell_type": "markdown",
   "id": "f04985e1",
   "metadata": {},
   "source": [
    "the next step is to ensure that all sentence are of the same length. for this, we will use pre-padding since it is better for the model we will be using for the analysis, which is the LSTM."
   ]
  },
  {
   "cell_type": "code",
   "execution_count": 133,
   "id": "fc157288",
   "metadata": {},
   "outputs": [],
   "source": [
    "from tensorflow.keras.preprocessing.sequence import pad_sequences\n",
    "padded_words = pad_sequences(numbered_words, maxlen=200)"
   ]
  },
  {
   "cell_type": "markdown",
   "id": "98629884",
   "metadata": {},
   "source": [
    "Now, into our sentiment analysis using LSTM. to start, we will first import the libraries we will be needing, and then add an embedding layer to convert our words to embedding vectors "
   ]
  },
  {
   "cell_type": "code",
   "execution_count": null,
   "id": "c3417d66",
   "metadata": {},
   "outputs": [],
   "source": [
    "from tensorflow.keras.models import Sequential\n",
    "from tensorflow.keras.layers import LSTM,Dense, Dropout, SpatialDropout1D\n",
    "from tensorflow.keras.layers import Embedding\n",
    "\n",
    "vocab_size = 10000\n",
    "embedding_vector_length = 32\n",
    "model.add(Embedding(vocab_size, embedding_vector_length, input_length=200))"
   ]
  },
  {
   "cell_type": "markdown",
   "id": "fea3959f",
   "metadata": {},
   "source": [
    "next we define a sequential() model to embed the layers of LSTM"
   ]
  },
  {
   "cell_type": "code",
   "execution_count": null,
   "id": "57690918",
   "metadata": {},
   "outputs": [],
   "source": [
    "model = Sequential()"
   ]
  },
  {
   "cell_type": "markdown",
   "id": "bafeed20",
   "metadata": {},
   "source": [
    "now we added the Dropout mechanism  "
   ]
  },
  {
   "cell_type": "code",
   "execution_count": null,
   "id": "32f7f43d",
   "metadata": {},
   "outputs": [],
   "source": [
    "model.add(SpatialDropout1D(0.25))\n",
    "model.add(LSTM(50, dropout=0.5, recurrent_dropout=0.5))\n",
    "model.add(Dropout(0.2))"
   ]
  },
  {
   "cell_type": "markdown",
   "id": "66c78290",
   "metadata": {},
   "source": [
    "since our output will be between 0 and 1, we will use sigmoid activation with 1-unit"
   ]
  },
  {
   "cell_type": "code",
   "execution_count": null,
   "id": "7987e645",
   "metadata": {},
   "outputs": [],
   "source": [
    "model.add(Dense(1, activation='sigmoid'))"
   ]
  },
  {
   "cell_type": "markdown",
   "id": "fe56a9c9",
   "metadata": {},
   "source": [
    "the 'adam' optemizer used has a faster computation time, and require fewer parameters for tuning. and it will also provide us with information for each epoch that runs. the 'binary_crossentroy' function is the loss function, that will be optemized and minimized by the 'adam' optemizer. and last, we will print a summary of our model."
   ]
  },
  {
   "cell_type": "code",
   "execution_count": 136,
   "id": "4ae89609",
   "metadata": {},
   "outputs": [
    {
     "name": "stdout",
     "output_type": "stream",
     "text": [
      "Model: \"sequential_7\"\n",
      "_________________________________________________________________\n",
      " Layer (type)                Output Shape              Param #   \n",
      "=================================================================\n",
      " embedding_6 (Embedding)     (None, 200, 32)           320000    \n",
      "                                                                 \n",
      " spatial_dropout1d_3 (Spatia  (None, 200, 32)          0         \n",
      " lDropout1D)                                                     \n",
      "                                                                 \n",
      " lstm_5 (LSTM)               (None, 50)                16600     \n",
      "                                                                 \n",
      " dropout_3 (Dropout)         (None, 50)                0         \n",
      "                                                                 \n",
      " dense_7 (Dense)             (None, 1)                 51        \n",
      "                                                                 \n",
      "=================================================================\n",
      "Total params: 336,651\n",
      "Trainable params: 336,651\n",
      "Non-trainable params: 0\n",
      "_________________________________________________________________\n",
      "None\n"
     ]
    }
   ],
   "source": [
    "model.compile(loss='binary_crossentropy',optimizer='adam', metrics=['accuracy'])\n",
    "print(model.summary())"
   ]
  },
  {
   "cell_type": "markdown",
   "id": "d5c3d5fc",
   "metadata": {},
   "source": [
    "time to fit the model to our data to run for 5 epochs and a batch size of 32"
   ]
  },
  {
   "cell_type": "code",
   "execution_count": 137,
   "id": "e8d38d89",
   "metadata": {},
   "outputs": [
    {
     "name": "stdout",
     "output_type": "stream",
     "text": [
      "Epoch 1/5\n",
      "1250/1250 [==============================] - 642s 507ms/step - loss: 0.4149 - accuracy: 0.8075 - val_loss: 0.2901 - val_accuracy: 0.8871\n",
      "Epoch 2/5\n",
      "1250/1250 [==============================] - 452s 362ms/step - loss: 0.2813 - accuracy: 0.8879 - val_loss: 0.3146 - val_accuracy: 0.8776\n",
      "Epoch 3/5\n",
      "1250/1250 [==============================] - 585s 468ms/step - loss: 0.2439 - accuracy: 0.9044 - val_loss: 0.2999 - val_accuracy: 0.8850\n",
      "Epoch 4/5\n",
      "1250/1250 [==============================] - 660s 528ms/step - loss: 0.2248 - accuracy: 0.9130 - val_loss: 0.3026 - val_accuracy: 0.8811\n",
      "Epoch 5/5\n",
      "1250/1250 [==============================] - 876s 701ms/step - loss: 0.2079 - accuracy: 0.9196 - val_loss: 0.2942 - val_accuracy: 0.8852\n"
     ]
    }
   ],
   "source": [
    "history = model.fit(padded_words, sentiment_label, validation_split=0.2, epochs=5, batch_size=32)"
   ]
  },
  {
   "cell_type": "markdown",
   "id": "2497365e",
   "metadata": {},
   "source": [
    "the sentiment analysis model yielded an accuracy of 91.9% on the trainning set, and an accuracy of 88% on the testing set"
   ]
  },
  {
   "cell_type": "code",
   "execution_count": null,
   "id": "d02c430f",
   "metadata": {},
   "outputs": [],
   "source": []
  }
 ],
 "metadata": {
  "kernelspec": {
   "display_name": "Python 3 (ipykernel)",
   "language": "python",
   "name": "python3"
  },
  "language_info": {
   "codemirror_mode": {
    "name": "ipython",
    "version": 3
   },
   "file_extension": ".py",
   "mimetype": "text/x-python",
   "name": "python",
   "nbconvert_exporter": "python",
   "pygments_lexer": "ipython3",
   "version": "3.9.13"
  }
 },
 "nbformat": 4,
 "nbformat_minor": 5
}
